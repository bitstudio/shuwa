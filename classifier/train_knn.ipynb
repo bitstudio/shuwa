{
 "cells": [
  {
   "cell_type": "code",
   "execution_count": null,
   "metadata": {},
   "outputs": [],
   "source": [
    "%load_ext autoreload\n",
    "%autoreload 2"
   ]
  },
  {
   "cell_type": "code",
   "execution_count": null,
   "metadata": {},
   "outputs": [],
   "source": [
    "%%capture\n",
    "import numpy as np\n",
    "import math\n",
    "import random\n",
    "import os\n",
    "import cv2\n",
    "import glob\n",
    "from tqdm import tqdm\n",
    "\n",
    "import tensorflow as tf\n",
    "from tensorflow.keras.callbacks import *\n",
    "from tensorflow.keras.optimizers import *\n",
    "from tensorflow.keras.models import Model\n",
    "from tensorflow.keras.layers import *\n",
    "from tensorflow.keras import backend as K\n",
    "\n",
    "import tensorflow_addons as tfa\n",
    "\n",
    "from knn_data_generator import KNNDataGenerator\n",
    "\n",
    "\n",
    "import sys\n",
    "sys.path.insert(1, '../')\n",
    "from constants import *"
   ]
  },
  {
   "cell_type": "markdown",
   "metadata": {},
   "source": [
    "# Create DD-Net model"
   ]
  },
  {
   "cell_type": "code",
   "execution_count": null,
   "metadata": {
    "code_folding": [
     0
    ]
   },
   "outputs": [],
   "source": [
    "## utils.\n",
    "def get_JCD(frames_batched):\n",
    "    \n",
    "    # distance matrix.\n",
    "    d_m = batch_frames_cdist(frames_batched, frames_batched)\n",
    "    d_m = tf.reshape(d_m, (-1, d_m.shape[1], d_m.shape[2]* d_m.shape[3]))   \n",
    "    \n",
    "    return d_m\n",
    "\n",
    "\n",
    "# input shape [batch, 32, 13, 2]\n",
    "def batch_frames_cdist(a, b):\n",
    "    return tf.sqrt(tf.reduce_sum(tf.square(tf.expand_dims(a, 2) - tf.expand_dims(b, 3)), axis=-1))\n",
    "\n",
    "\n",
    "# input shape [batch, 32, 13, 2]\n",
    "def pose_motion(raw_poses):\n",
    "    diff_slow = poses_diff(raw_poses)\n",
    "    # flatten last 2 dims.\n",
    "    diff_slow = tf.reshape(diff_slow, (-1, diff_slow.shape[1], diff_slow.shape[2]*diff_slow.shape[3]))\n",
    "    \n",
    "    # jump frame\n",
    "    fast = raw_poses[:, ::2, :, :]  \n",
    "    diff_fast = poses_diff(fast)\n",
    "    # flatten last 2 dims.\n",
    "    diff_fast = tf.reshape(diff_fast, (-1, diff_fast.shape[1], diff_fast.shape[2]*diff_fast.shape[3]))\n",
    "    \n",
    "    return diff_slow, diff_fast   \n",
    "\n",
    "\n",
    "def poses_diff(x):    \n",
    "    # frame t - frame(t-1)\n",
    "    x = x[:, 1:, :, :] - x[:, :-1, :, :]     \n",
    "    x_d = tf.expand_dims(x[:, 0, :, :], 1)\n",
    "    x_d = tf.concat([x_d, x], axis=1)\n",
    "\n",
    "    return x_d\n"
   ]
  },
  {
   "cell_type": "code",
   "execution_count": null,
   "metadata": {
    "code_folding": [
     0
    ]
   },
   "outputs": [],
   "source": [
    "## nural blocks.\n",
    "def c1D(x, filters, kernel):\n",
    "    x = Conv1D(filters, kernel_size=kernel, padding='same', use_bias=False)(x)\n",
    "    x = BatchNormalization()(x)\n",
    "    x = PReLU(shared_axes=[1])(x)\n",
    "    return x\n",
    "\n",
    "\n",
    "def block(x, filters):\n",
    "    x = c1D(x, filters, 3)\n",
    "    x = c1D(x, filters, 3)\n",
    "    return x\n",
    "\n",
    "\n",
    "def d1D(x, filters):\n",
    "    x = Dense(filters, use_bias=False)(x)\n",
    "    x = BatchNormalization()(x)\n",
    "    x = PReLU(shared_axes=[1])(x)\n",
    "    return x\n",
    "\n",
    "\n",
    "#pose encoder\n",
    "def encode_jcds(x, filters, drop_out=0.4):\n",
    "    x = c1D(x, filters*2, 1)\n",
    "    x = SpatialDropout1D(0.1)(x)\n",
    "    x = c1D(x, filters, 3)\n",
    "    x = SpatialDropout1D(0.1)(x)\n",
    "    x = c1D(x, filters, 1)\n",
    "    x = MaxPooling1D(2)(x)     \n",
    "    x = SpatialDropout1D(0.1)(x)\n",
    "    x = Dropout(drop_out)(x)\n",
    "    return x\n",
    "\n",
    "\n",
    "# hands encoder\n",
    "def joints_encoder(filters, drop_out=0.4):\n",
    "    encoder_input = Input(shape=(NUM_FRAME_SAMPLES, 441))\n",
    "    x = c1D(encoder_input, filters*2, 1)\n",
    "    x = SpatialDropout1D(0.1)(x)\n",
    "    x = c1D(x, filters, 3)\n",
    "    x = SpatialDropout1D(0.1)(x)\n",
    "    x = c1D(x, filters, 1)\n",
    "    x = MaxPooling1D(2)(x)\n",
    "    x = SpatialDropout1D(0.1)(x)\n",
    "    x = Dropout(drop_out)(x)\n",
    "    \n",
    "    return Model(inputs=encoder_input, outputs=x)\n",
    "\n",
    "\n",
    "def encode_diff_slow(diff_slow, filters):\n",
    "    x_d_slow = c1D(diff_slow, filters*2, 1)\n",
    "    x_d_slow = SpatialDropout1D(0.1)(x_d_slow)\n",
    "    x_d_slow = c1D(x_d_slow, filters, 3)\n",
    "    x_d_slow = SpatialDropout1D(0.1)(x_d_slow)\n",
    "    x_d_slow = c1D(x_d_slow, filters, 1)\n",
    "    x_d_slow = MaxPool1D(2)(x_d_slow)\n",
    "    x_d_slow = SpatialDropout1D(0.1)(x_d_slow)      \n",
    "    \n",
    "    return x_d_slow\n",
    "\n",
    "def encode_diff_fast(diff_fast, filters):\n",
    "    x_d_fast = c1D(diff_fast, filters*2, 1)\n",
    "    x_d_fast = SpatialDropout1D(0.1)(x_d_fast)\n",
    "    x_d_fast = c1D(x_d_fast, filters, 3)\n",
    "    x_d_fast = SpatialDropout1D(0.1)(x_d_fast)\n",
    "    x_d_fast = c1D(x_d_fast, filters, 1)\n",
    "    x_d_fast = SpatialDropout1D(0.1)(x_d_fast)\n",
    "    \n",
    "    return x_d_fast"
   ]
  },
  {
   "cell_type": "code",
   "execution_count": null,
   "metadata": {
    "code_folding": [
     0
    ]
   },
   "outputs": [],
   "source": [
    "## backbone\n",
    "def build_backbone(\n",
    "                    pose_frames,\n",
    "                    diff_slow, diff_fast,\n",
    "                    face_frames,\n",
    "                    left_hand_frames, right_hand_frames,\n",
    "                    filters):\n",
    "\n",
    "    \n",
    "    # pose\n",
    "    pose_encoded = encode_jcds(pose_frames, filters//2, drop_out=0.4)    \n",
    "    pose_encoded = c1D(pose_encoded, 256, 3)\n",
    "    pose_encoded = MaxPooling1D(4)(pose_encoded)\n",
    "    pose_encoded = c1D(pose_encoded, 256, 3)\n",
    "    pose_encoded = MaxPooling1D(2)(pose_encoded)   \n",
    "    pose_encoded= Flatten()(pose_encoded)\n",
    "    pose_encoded = Dense(256)(pose_encoded)\n",
    "    pose_encoded = tf.math.l2_normalize(pose_encoded, axis=-1)\n",
    "        \n",
    "        \n",
    "    # face\n",
    "    face_encoded = encode_jcds(face_frames, filters//2, drop_out=0.3)    \n",
    "    face_encoded = c1D(face_encoded, 128, 3)\n",
    "    face_encoded = MaxPooling1D(4)(face_encoded)\n",
    "    face_encoded = c1D(face_encoded, 128, 3)\n",
    "    face_encoded = MaxPooling1D(2)(face_encoded) \n",
    "    face_encoded= Flatten()(face_encoded)\n",
    "    face_encoded = Dense(64)(face_encoded)\n",
    "    face_encoded = tf.math.l2_normalize(face_encoded, axis=-1)\n",
    "    \n",
    "    # hands\n",
    "    diff_slow_encoded = encode_diff_slow(diff_slow, filters)\n",
    "    diff_fast_encoded = encode_diff_fast(diff_fast, filters)\n",
    "    hand_encoder = joints_encoder(int(filters*4), drop_out=0.4)   \n",
    "    left_hands_encoded = hand_encoder(left_hand_frames)\n",
    "    right_hands_encoded = hand_encoder(right_hand_frames)\n",
    "    hands = concatenate([diff_slow_encoded, diff_fast_encoded, left_hands_encoded, right_hands_encoded])\n",
    "    hands = c1D(hands, 256, 3)\n",
    "    hands = MaxPooling1D(4)(hands)\n",
    "    hands = c1D(hands, 512, 3)\n",
    "    hands = MaxPooling1D(2)(hands)   \n",
    "    hands = Flatten()(hands)\n",
    "    hands = Dense(512)(hands)       \n",
    "    hands = tf.math.l2_normalize(hands, axis=-1)\n",
    "    \n",
    "    # all feats\n",
    "    x = concatenate([pose_encoded, face_encoded, hands])    \n",
    "\n",
    "    return x\n"
   ]
  },
  {
   "cell_type": "code",
   "execution_count": null,
   "metadata": {
    "code_folding": [
     0
    ]
   },
   "outputs": [],
   "source": [
    "## build.\n",
    "def build_DD_Net():       \n",
    "    # input layers.\n",
    "    pose_frames_input = Input(shape=(NUM_FRAME_SAMPLES, NUM_SELECTED_POSENET_JOINTS, POSENET_JOINT_DIMS), name='pose_frames_input')\n",
    "    face_frames_input = Input(shape=(NUM_FRAME_SAMPLES, NUM_SELECTED_FACE_JOINTS, FACE_JOINT_DIMS), name='face_frames_input')\n",
    "    left_hand_frames_input = Input(shape=(NUM_FRAME_SAMPLES, NUM_HAND_JOINTS, HAND_JOINT_DIMS), name='left_hand_frames_input')\n",
    "    right_hand_frames_input = Input(shape=(NUM_FRAME_SAMPLES, NUM_HAND_JOINTS, HAND_JOINT_DIMS), name='right_hand_frames_input')\n",
    "    \n",
    "    # poses                 \n",
    "    pose_frames_jcds = get_JCD(pose_frames_input)    \n",
    "    hand_cat = concatenate([left_hand_frames_input, right_hand_frames_input], axis=-2)    \n",
    "    diff_slow, diff_fast = pose_motion(hand_cat)    \n",
    "    \n",
    "    # faces\n",
    "    face_frames = get_JCD(face_frames_input)\n",
    "    \n",
    "    # hands\n",
    "    left_hand_frames = get_JCD(left_hand_frames_input)\n",
    "    right_hand_frames = get_JCD(right_hand_frames_input)\n",
    " \n",
    "    # embed and backbone.\n",
    "    x = build_backbone(pose_frames_jcds,\n",
    "                       diff_slow, diff_fast,\n",
    "                       face_frames,\n",
    "                       left_hand_frames, right_hand_frames,\n",
    "                       filters=NUM_START_FILTERS)\n",
    "\n",
    "    \n",
    "    model = Model(inputs=[pose_frames_input, face_frames_input, left_hand_frames_input, right_hand_frames_input], outputs=x)\n",
    "    return model"
   ]
  },
  {
   "cell_type": "code",
   "execution_count": null,
   "metadata": {
    "code_folding": [
     0
    ],
    "scrolled": true
   },
   "outputs": [],
   "source": [
    "## input\n",
    "batch_size = None\n",
    "pose_frames_input = Input(batch_shape=(batch_size, NUM_FRAME_SAMPLES, NUM_SELECTED_POSENET_JOINTS, POSENET_JOINT_DIMS), name='pose_frames_input')\n",
    "face_frames_input = Input(batch_shape=(batch_size, NUM_FRAME_SAMPLES, NUM_SELECTED_FACE_JOINTS, FACE_JOINT_DIMS), name='face_frames_input')\n",
    "left_hand_frames_input = Input(batch_shape=(batch_size, NUM_FRAME_SAMPLES, NUM_HAND_JOINTS, HAND_JOINT_DIMS), name='left_hand_frames_input')\n",
    "right_hand_frames_input = Input(batch_shape=(batch_size, NUM_FRAME_SAMPLES, NUM_HAND_JOINTS, HAND_JOINT_DIMS), name='right_hand_frames_input')\n",
    "\n",
    "embedder_model = build_DD_Net()\n",
    "\n",
    "# embed.\n",
    "feats_out = embedder_model([pose_frames_input, face_frames_input, left_hand_frames_input, right_hand_frames_input])\n",
    "\n",
    "model = Model(inputs=[pose_frames_input, face_frames_input,\n",
    "                      left_hand_frames_input, right_hand_frames_input],\n",
    "              outputs=feats_out)\n",
    "\n",
    "\n"
   ]
  },
  {
   "cell_type": "code",
   "execution_count": null,
   "metadata": {},
   "outputs": [],
   "source": [
    "model.summary()"
   ]
  },
  {
   "cell_type": "markdown",
   "metadata": {},
   "source": [
    "# Data Generator"
   ]
  },
  {
   "cell_type": "code",
   "execution_count": null,
   "metadata": {
    "code_folding": []
   },
   "outputs": [],
   "source": [
    "batch_size = 32\n",
    "train_generator = KNNDataGenerator('D:/jobs/datasets/video/sign_language/kps/train',\n",
    "                                     batch_size=batch_size, use_augment=True)\n",
    "val_generator = KNNDataGenerator('D:/jobs/datasets/video/sign_language/kps/train',\n",
    "                                     batch_size=batch_size, use_augment=True)"
   ]
  },
  {
   "cell_type": "markdown",
   "metadata": {},
   "source": [
    "## Train"
   ]
  },
  {
   "cell_type": "code",
   "execution_count": null,
   "metadata": {},
   "outputs": [],
   "source": [
    "model.compile(loss=tfa.losses.triplet_hard_loss, optimizer=\"Adam\")"
   ]
  },
  {
   "cell_type": "code",
   "execution_count": null,
   "metadata": {},
   "outputs": [],
   "source": [
    "filepath = (\"checkpoints/{epoch:02d}-{loss:.4f}.h5\")\n",
    "checkpoint = ModelCheckpoint(filepath, monitor='loss', save_best_only=False,\n",
    "                             mode='auto', save_weights_only=False)\n",
    "\n",
    "\n",
    "history = model.fit_generator(train_generator,\n",
    "                               steps_per_epoch=200,\n",
    "                               epochs=200,\n",
    "                               initial_epoch=0,\n",
    "                               callbacks=[checkpoint],\n",
    "                               validation_data=val_generator,\n",
    "                               validation_steps=500,\n",
    "                               validation_freq=3,\n",
    "                               workers=3, use_multiprocessing=False\n",
    "                            )"
   ]
  }
 ],
 "metadata": {
  "kernelspec": {
   "display_name": "Python 3",
   "language": "python",
   "name": "python3"
  },
  "language_info": {
   "codemirror_mode": {
    "name": "ipython",
    "version": 3
   },
   "file_extension": ".py",
   "mimetype": "text/x-python",
   "name": "python",
   "nbconvert_exporter": "python",
   "pygments_lexer": "ipython3",
   "version": "3.7.10"
  },
  "toc": {
   "base_numbering": 1,
   "nav_menu": {},
   "number_sections": true,
   "sideBar": true,
   "skip_h1_title": false,
   "title_cell": "Table of Contents",
   "title_sidebar": "Contents",
   "toc_cell": false,
   "toc_position": {
    "height": "calc(100% - 180px)",
    "left": "10px",
    "top": "150px",
    "width": "187.6px"
   },
   "toc_section_display": true,
   "toc_window_display": true
  },
  "varInspector": {
   "cols": {
    "lenName": 16,
    "lenType": 16,
    "lenVar": 40
   },
   "kernels_config": {
    "python": {
     "delete_cmd_postfix": "",
     "delete_cmd_prefix": "del ",
     "library": "var_list.py",
     "varRefreshCmd": "print(var_dic_list())"
    },
    "r": {
     "delete_cmd_postfix": ") ",
     "delete_cmd_prefix": "rm(",
     "library": "var_list.r",
     "varRefreshCmd": "cat(var_dic_list()) "
    }
   },
   "types_to_exclude": [
    "module",
    "function",
    "builtin_function_or_method",
    "instance",
    "_Feature"
   ],
   "window_display": false
  }
 },
 "nbformat": 4,
 "nbformat_minor": 2
}
