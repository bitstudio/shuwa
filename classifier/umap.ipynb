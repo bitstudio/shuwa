{
 "cells": [
  {
   "cell_type": "code",
   "execution_count": 1,
   "metadata": {},
   "outputs": [],
   "source": [
    "%load_ext autoreload\n",
    "%autoreload 2"
   ]
  },
  {
   "cell_type": "code",
   "execution_count": 2,
   "metadata": {},
   "outputs": [],
   "source": [
    "%%capture\n",
    "import numpy as np\n",
    "from tqdm import tqdm\n",
    "\n",
    "import tensorflow as tf\n",
    "from tensorflow.keras.models import load_model\n",
    "tf.compat.v1.disable_eager_execution()\n",
    "\n",
    "\n",
    "from knn_data_generator_online import KNNDataGenerator\n",
    "\n",
    "import sys\n",
    "sys.path.insert(1, '../')\n",
    "from constants import *\n",
    "labels_txt = list(LABELS.keys())"
   ]
  },
  {
   "cell_type": "code",
   "execution_count": 10,
   "metadata": {},
   "outputs": [],
   "source": [
    "model = load_model(\"checkpoints_dist_online\\\\0909-triplet-online66-0.0300.h5\", compile=False)"
   ]
  },
  {
   "cell_type": "code",
   "execution_count": 4,
   "metadata": {},
   "outputs": [
    {
     "name": "stdout",
     "output_type": "stream",
     "text": [
      "[INFO] Loading all label in to memory...\n",
      "0_Idle 58\n",
      "Hksl_bear 241\n",
      "Hksl_bicycle-Jsl_bicycle 386\n",
      "Hksl_carrot 186\n",
      "Hksl_chef 187\n",
      "Hksl_coffee 177\n",
      "Hksl_dog 188\n",
      "Hksl_dragonfly 175\n",
      "Hksl_flip_flops 244\n",
      "Hksl_fortune_teller 171\n",
      "Hksl_grey 187\n",
      "Hksl_hat-Jsl_cap 380\n",
      "Hksl_hearing_aid-Jsl_hearing_aid 383\n",
      "Hksl_high_heels 230\n",
      "Hksl_how_are_you 150\n",
      "Hksl_lipstick 202\n",
      "Hksl_milk_tea 139\n",
      "Hksl_motorcycle-Jsl_motorcycle 299\n",
      "Hksl_post_office 186\n",
      "Hksl_purple 184\n",
      "Hksl_shark 198\n",
      "Hksl_soft_drink 203\n",
      "Hksl_summer 176\n",
      "Hksl_sunglasses 259\n",
      "Hksl_supermarket 97\n",
      "Hksl_tiger 231\n",
      "Hksl_tomato 183\n",
      "Hksl_watermelon 210\n",
      "Hksl_welcome 200\n",
      "Hksl_wine 202\n",
      "Hksl_winter-Jsl_winter 363\n",
      "Jsl_bird 268\n",
      "Jsl_brown 268\n",
      "Jsl_canteen 210\n",
      "Jsl_carrot 187\n",
      "Jsl_cat 247\n",
      "Jsl_department_store 180\n",
      "Jsl_dog 203\n",
      "Jsl_draught_beer 245\n",
      "Jsl_earring 228\n",
      "Jsl_geta 216\n",
      "Jsl_goldfish 223\n",
      "Jsl_gray 248\n",
      "Jsl_hello_with_one_hand 208\n",
      "Jsl_hello_with_two_hands 242\n",
      "Jsl_high_heels 186\n",
      "Jsl_japanese_radish 204\n",
      "Jsl_lemon 261\n",
      "Jsl_milk_tea 192\n",
      "Jsl_orange_juice 198\n",
      "Jsl_programmer 191\n",
      "Jsl_sports_athelets 193\n",
      "Jsl_strawberry 199\n",
      "Jsl_summer 240\n",
      "Jsl_watch 181\n",
      "Jsl_wine 235\n"
     ]
    }
   ],
   "source": [
    "train_generator = KNNDataGenerator('D:\\\\jobs\\\\2020\\\\sign_language\\\\datasets\\\\classifier\\\\anns_norm\\\\train',\n",
    "                                     batch_size=8, use_augment=False)"
   ]
  },
  {
   "cell_type": "code",
   "execution_count": 11,
   "metadata": {},
   "outputs": [],
   "source": [
    "results_pose = []\n",
    "results_face = []\n",
    "results_hands = []\n",
    "results_all = []\n",
    "\n",
    "labels_idx = []\n",
    "\n",
    "\n",
    "for i in range(200):\n",
    "    net_inputs, labels = train_generator.__getitem__(0)\n",
    "    \n",
    "    # predict and append embeddings.\n",
    "    feats = model.predict(net_inputs)\n",
    "    results_all.append(feats)\n",
    "    results_pose.append(feats[:,:256])\n",
    "    results_face.append(feats[:,256:320])\n",
    "    results_hands.append(feats[:,320:])\n",
    "    \n",
    "    \n",
    "    labels_idx.append(labels)\n",
    "               \n",
    "               \n",
    "# save embeddings.\n",
    "results_pose = np.vstack(results_pose)\n",
    "results_face = np.vstack(results_face)\n",
    "results_hands = np.vstack(results_hands)\n",
    "results_all = np.vstack(results_all)\n",
    "np.savetxt(\"vis\\\\vecs_pose.tsv\", results_pose, delimiter='\\t', fmt=\"%1.5f\")\n",
    "np.savetxt(\"vis\\\\vecs_face.tsv\", results_face, delimiter='\\t', fmt=\"%1.5f\")\n",
    "np.savetxt(\"vis\\\\vecs_hands.tsv\", results_hands, delimiter='\\t', fmt=\"%1.5f\")\n",
    "np.savetxt(\"vis\\\\vecs_all.tsv\", results_all, delimiter='\\t', fmt=\"%1.5f\")\n",
    "\n",
    "\n",
    "               \n",
    "# save label metadata.\n",
    "labels_idx = np.vstack(labels_idx).astype(\"int\")\n",
    "\n",
    "\n",
    "out_m = open('vis\\\\meta.tsv', 'w', encoding='utf-8')\n",
    "for idx in labels_idx:\n",
    "    out_m.write(str(labels_txt[idx[0]]) + \"\\n\")\n",
    "out_m.close()\n"
   ]
  },
  {
   "cell_type": "code",
   "execution_count": null,
   "metadata": {},
   "outputs": [],
   "source": []
  }
 ],
 "metadata": {
  "kernelspec": {
   "display_name": "Python 3",
   "language": "python",
   "name": "python3"
  },
  "language_info": {
   "codemirror_mode": {
    "name": "ipython",
    "version": 3
   },
   "file_extension": ".py",
   "mimetype": "text/x-python",
   "name": "python",
   "nbconvert_exporter": "python",
   "pygments_lexer": "ipython3",
   "version": "3.7.6"
  },
  "toc": {
   "base_numbering": 1,
   "nav_menu": {},
   "number_sections": true,
   "sideBar": true,
   "skip_h1_title": false,
   "title_cell": "Table of Contents",
   "title_sidebar": "Contents",
   "toc_cell": false,
   "toc_position": {},
   "toc_section_display": true,
   "toc_window_display": false
  }
 },
 "nbformat": 4,
 "nbformat_minor": 4
}
